{
 "cells": [
  {
   "cell_type": "code",
   "execution_count": 85,
   "metadata": {},
   "outputs": [],
   "source": [
    "import pandas as pd\n",
    "import numpy as np"
   ]
  },
  {
   "cell_type": "code",
   "execution_count": 86,
   "metadata": {},
   "outputs": [],
   "source": [
    "df = pd.read_csv(\"./mapping/raw_data/unimelb_dookie.csv\") #Dookie\n",
    "# df = pd.read_csv(\"./mapping/raw_data/unimelb_burnley.csv\") #Burnley\n",
    "# df = pd.read_csv(\"./mapping/raw_data/unimelb_creswick.csv\") #Creswick\n",
    "# df = pd.read_csv(\"./mapping/raw_data/unimelb_sheppartion.csv\") #Sheppartion\n",
    "# df = pd.read_csv(\"./mapping/raw_data/unimelb_southbank.csv\") #Southbank\n",
    "# df = pd.read_csv(\"./mapping/raw_data/unimelb_werribee.csv\") #Werribee\n",
    "# df = pd.read_csv(\"./mapping/raw_data/unimelb_parkville.csv\") #Parville"
   ]
  },
  {
   "cell_type": "code",
   "execution_count": 87,
   "metadata": {},
   "outputs": [],
   "source": [
    "df[['Building', 'z', 'Floor label prefix','Floorplan label']]= df['Building;z;Floor label prefix;Floorplan label'].str.split(\";\",expand=True)"
   ]
  },
  {
   "cell_type": "code",
   "execution_count": 88,
   "metadata": {},
   "outputs": [],
   "source": [
    "df.drop(['Building;z;Floor label prefix;Floorplan label','z','Floor label prefix','Floorplan label'],axis =1,inplace=True)"
   ]
  },
  {
   "cell_type": "code",
   "execution_count": 89,
   "metadata": {},
   "outputs": [],
   "source": [
    "df.drop_duplicates(subset=['Building'],inplace=True)"
   ]
  },
  {
   "cell_type": "code",
   "execution_count": 90,
   "metadata": {},
   "outputs": [],
   "source": [
    "#Parkville only\n",
    "# df.drop(index=df.index[0],inplace=True)"
   ]
  },
  {
   "cell_type": "code",
   "execution_count": 91,
   "metadata": {},
   "outputs": [],
   "source": [
    "df[['Building name', 'No', 'id']]= df['Building'].str.split(\"(\",expand=True)"
   ]
  },
  {
   "cell_type": "code",
   "execution_count": 92,
   "metadata": {},
   "outputs": [],
   "source": [
    "df.drop(['Building','id'],axis =1,inplace=True)"
   ]
  },
  {
   "cell_type": "code",
   "execution_count": 93,
   "metadata": {},
   "outputs": [],
   "source": [
    "df.dropna(axis=0,inplace=True)"
   ]
  },
  {
   "cell_type": "code",
   "execution_count": 94,
   "metadata": {},
   "outputs": [
    {
     "name": "stderr",
     "output_type": "stream",
     "text": [
      "C:\\Users\\amorntiyangg\\AppData\\Local\\Temp\\ipykernel_18140\\4257082470.py:1: FutureWarning: The default value of regex will change from True to False in a future version. In addition, single character regular expressions will *not* be treated as literal strings when regex=True.\n",
      "  df['No'] =df['No'].str.replace(')', '').str.replace('BUILDING', '').astype(str)\n"
     ]
    }
   ],
   "source": [
    "df['No'] =df['No'].str.replace(')', '').str.replace('BUILDING', '').astype(str)"
   ]
  },
  {
   "cell_type": "code",
   "execution_count": 95,
   "metadata": {},
   "outputs": [],
   "source": [
    "#Create campus id mapping\n",
    "campus_id_mapping = pd.DataFrame(data={'Campus_code': ['WER', 'DOO','SPT','STH','BUR','CRE','PAR'], 'campus_id': [217, 220,221,216,218,219,200]})"
   ]
  },
  {
   "cell_type": "code",
   "execution_count": 96,
   "metadata": {},
   "outputs": [],
   "source": [
    "# Look up the campus_id for a given campus_code\n",
    "campus_code = 'DOO'\n",
    "# campus_code = 'WER'\n",
    "# campus_code = 'STH'\n",
    "# campus_code = 'SPT'\n",
    "# campus_code = 'BUR'\n",
    "# campus_code = 'CRE'\n",
    "# campus_code = 'PAR'\n",
    "campus_id = campus_id_mapping.loc[campus_id_mapping['Campus_code'] == campus_code, 'campus_id'].iloc[0]"
   ]
  },
  {
   "cell_type": "code",
   "execution_count": 97,
   "metadata": {},
   "outputs": [],
   "source": [
    "# Define a lambda function to update the URL string\n",
    "def update_url(row):\n",
    "    return 'https://use.mazemap.com/?campusid={}&sharepoitype=identifier&sharepoi={}'.format(campus_id, row['No'])\n",
    "\n",
    "# Apply the lambda function to the \"no\" column and assign the results to a new column \"url\"\n",
    "df['url'] = df.apply(update_url, axis=1)"
   ]
  },
  {
   "cell_type": "code",
   "execution_count": 98,
   "metadata": {},
   "outputs": [],
   "source": [
    "# df.to_excel(\"./mapping/unimelb_dookie_url.xlsx\", index=False) \n",
    "# df.to_excel(\"./mapping/unimelb_burnley_url.xlsx\", index=False) \n",
    "# df.to_excel(\"./mapping/unimelb_creswick_url.xlsx\", index=False) \n",
    "# df.to_excel(\"./mapping/unimelb_sheppartion_url.xlsx\", index=False) \n",
    "# df.to_excel(\"./mapping/unimelb_southbank_url.xlsx\", index=False) \n",
    "# df.to_excel(\"./mapping/unimelb_werribee_url.xlsx\", index=False) \n",
    "# df.to_excel(\"./mapping/unimelb_parkville_url.xlsx\", index=False) "
   ]
  },
  {
   "cell_type": "code",
   "execution_count": null,
   "metadata": {},
   "outputs": [],
   "source": []
  }
 ],
 "metadata": {
  "kernelspec": {
   "display_name": "base",
   "language": "python",
   "name": "python3"
  },
  "language_info": {
   "codemirror_mode": {
    "name": "ipython",
    "version": 3
   },
   "file_extension": ".py",
   "mimetype": "text/x-python",
   "name": "python",
   "nbconvert_exporter": "python",
   "pygments_lexer": "ipython3",
   "version": "3.9.13"
  },
  "orig_nbformat": 4
 },
 "nbformat": 4,
 "nbformat_minor": 2
}
