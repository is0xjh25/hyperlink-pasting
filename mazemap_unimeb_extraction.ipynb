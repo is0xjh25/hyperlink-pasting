{
 "cells": [
  {
   "cell_type": "code",
   "execution_count": 1,
   "metadata": {},
   "outputs": [],
   "source": [
    "import pandas as pd\n",
    "import numpy as np"
   ]
  },
  {
   "cell_type": "code",
   "execution_count": 123,
   "metadata": {},
   "outputs": [],
   "source": [
    "# df = pd.read_csv(\"./mapping/raw_data/unimelb_dookie.csv\") #Dookie\n",
    "# df = pd.read_csv(\"./mapping/raw_data/unimelb_burnley.csv\") #Burnley\n",
    "# df = pd.read_csv(\"./mapping/raw_data/unimelb_creswick.csv\") #Creswick\n",
    "# df = pd.read_csv(\"./mapping/raw_data/unimelb_sheppartion.csv\") #Sheppartion\n",
    "# df = pd.read_csv(\"./mapping/raw_data/unimelb_southbank.csv\") #Southbank\n",
    "df = pd.read_csv(\"./mapping/raw_data/unimelb_werribee.csv\") #Werribee\n",
    "# df = pd.read_csv(\"./mapping/raw_data/unimelb_parkville.csv\") #Parville"
   ]
  },
  {
   "cell_type": "code",
   "execution_count": 124,
   "metadata": {},
   "outputs": [],
   "source": [
    "df[['Building', 'z', 'Floor label prefix','Floorplan label']]= df['Building;z;Floor label prefix;Floorplan label'].str.split(\";\",expand=True)"
   ]
  },
  {
   "cell_type": "code",
   "execution_count": 125,
   "metadata": {},
   "outputs": [],
   "source": [
    "df.drop(['Building;z;Floor label prefix;Floorplan label','z','Floor label prefix','Floorplan label'],axis =1,inplace=True)"
   ]
  },
  {
   "cell_type": "code",
   "execution_count": 126,
   "metadata": {},
   "outputs": [],
   "source": [
    "df.drop_duplicates(subset=['Building'],inplace=True)"
   ]
  },
  {
   "cell_type": "code",
   "execution_count": 127,
   "metadata": {},
   "outputs": [],
   "source": [
    "#Parkville only\n",
    "# df.drop(index=df.index[0],inplace=True)"
   ]
  },
  {
   "cell_type": "code",
   "execution_count": 128,
   "metadata": {},
   "outputs": [],
   "source": [
    "df[['Building name', 'No', 'id']]= df['Building'].str.split(\"(\",expand=True)"
   ]
  },
  {
   "cell_type": "code",
   "execution_count": 129,
   "metadata": {},
   "outputs": [],
   "source": [
    "df.drop(['Building','id'],axis =1,inplace=True)"
   ]
  },
  {
   "cell_type": "code",
   "execution_count": 130,
   "metadata": {},
   "outputs": [],
   "source": [
    "df.dropna(axis=0,inplace=True)"
   ]
  },
  {
   "cell_type": "code",
   "execution_count": 131,
   "metadata": {},
   "outputs": [
    {
     "name": "stderr",
     "output_type": "stream",
     "text": [
      "C:\\Users\\amorntiyangg\\AppData\\Local\\Temp\\ipykernel_16836\\2192794832.py:1: FutureWarning: The default value of regex will change from True to False in a future version. In addition, single character regular expressions will *not* be treated as literal strings when regex=True.\n",
      "  df['No'] =df['No'].str.replace(')', '').str.replace('BUILDING', '').astype(str)\n"
     ]
    }
   ],
   "source": [
    "df['No'] =df['No'].str.replace(')', '').str.replace('BUILDING', '').astype(str)\n"
   ]
  },
  {
   "cell_type": "code",
   "execution_count": 132,
   "metadata": {},
   "outputs": [],
   "source": [
    "#Parkville\n",
    "# df['No'] =df['No'].str.replace('Building', '').astype(str)\n",
    "# df['No'] =df['No'].str.replace('BUILIDNG', '').astype(str)"
   ]
  },
  {
   "cell_type": "code",
   "execution_count": 133,
   "metadata": {},
   "outputs": [],
   "source": [
    "#Create campus id mapping\n",
    "campus_id_mapping = pd.DataFrame(data={'Campus_code': ['WER', 'DOO','SPT','STH','BUR','CRE','PAR'], 'campus_id': [217, 220,221,216,218,219,200]})"
   ]
  },
  {
   "cell_type": "code",
   "execution_count": 134,
   "metadata": {},
   "outputs": [],
   "source": [
    "# Look up the campus_id for a given campus_code\n",
    "# campus_code = 'DOO'\n",
    "campus_code = 'WER'\n",
    "# campus_code = 'STH'\n",
    "# campus_code = 'SPT'\n",
    "# campus_code = 'BUR'\n",
    "# campus_code = 'CRE'\n",
    "# campus_code = 'PAR'\n",
    "campus_id = campus_id_mapping.loc[campus_id_mapping['Campus_code'] == campus_code, 'campus_id'].iloc[0]"
   ]
  },
  {
   "cell_type": "code",
   "execution_count": 135,
   "metadata": {},
   "outputs": [],
   "source": [
    "# Define a lambda function to update the URL string\n",
    "def update_url(row):\n",
    "    return 'https://use.mazemap.com/?campusid={}&sharepoitype=identifier&sharepoi={}'.format(campus_id, row['No'])\n",
    "\n",
    "# Apply the lambda function to the \"no\" column and assign the results to a new column \"url\"\n",
    "df['url'] = df.apply(update_url, axis=1)"
   ]
  },
  {
   "attachments": {},
   "cell_type": "markdown",
   "metadata": {},
   "source": [
    "Mapping building name"
   ]
  },
  {
   "cell_type": "code",
   "execution_count": 136,
   "metadata": {},
   "outputs": [],
   "source": [
    "mapping_naming = pd.read_excel(\"Buidling_mapping_Mazemap.xlsx\")"
   ]
  },
  {
   "cell_type": "code",
   "execution_count": 137,
   "metadata": {},
   "outputs": [],
   "source": [
    "# rename the 'Building Code' column to 'No'\n",
    "mapping_naming = mapping_naming.rename(columns={'Building Code': 'No'})"
   ]
  },
  {
   "cell_type": "code",
   "execution_count": 138,
   "metadata": {},
   "outputs": [],
   "source": [
    "df['No'] =df['No'].str.strip()\n",
    "mapping_naming['No'] =mapping_naming['No'].str.strip()"
   ]
  },
  {
   "cell_type": "code",
   "execution_count": 139,
   "metadata": {},
   "outputs": [],
   "source": [
    "# create a dictionary from the mapping DataFrame\n",
    "mapping_dict = dict(zip(mapping_naming['No'], mapping_naming['Building Name']))\n"
   ]
  },
  {
   "cell_type": "code",
   "execution_count": 140,
   "metadata": {},
   "outputs": [
    {
     "data": {
      "text/html": [
       "<div>\n",
       "<style scoped>\n",
       "    .dataframe tbody tr th:only-of-type {\n",
       "        vertical-align: middle;\n",
       "    }\n",
       "\n",
       "    .dataframe tbody tr th {\n",
       "        vertical-align: top;\n",
       "    }\n",
       "\n",
       "    .dataframe thead th {\n",
       "        text-align: right;\n",
       "    }\n",
       "</style>\n",
       "<table border=\"1\" class=\"dataframe\">\n",
       "  <thead>\n",
       "    <tr style=\"text-align: right;\">\n",
       "      <th></th>\n",
       "      <th>Building name</th>\n",
       "      <th>No</th>\n",
       "      <th>url</th>\n",
       "    </tr>\n",
       "  </thead>\n",
       "  <tbody>\n",
       "    <tr>\n",
       "      <th>0</th>\n",
       "      <td>WERRIBEE VETERINARY HOSPITAL</td>\n",
       "      <td>411</td>\n",
       "      <td>https://use.mazemap.com/?campusid=217&amp;sharepoi...</td>\n",
       "    </tr>\n",
       "    <tr>\n",
       "      <th>414</th>\n",
       "      <td>WERRIBEE PATHOLOGY BUILDING</td>\n",
       "      <td>416</td>\n",
       "      <td>https://use.mazemap.com/?campusid=217&amp;sharepoi...</td>\n",
       "    </tr>\n",
       "    <tr>\n",
       "      <th>510</th>\n",
       "      <td>WERRIBEE PARASITOLOGY BUILDING</td>\n",
       "      <td>417</td>\n",
       "      <td>https://use.mazemap.com/?campusid=217&amp;sharepoi...</td>\n",
       "    </tr>\n",
       "    <tr>\n",
       "      <th>551</th>\n",
       "      <td>WERRIBEE LEARNING &amp; TEACHING BUILDING</td>\n",
       "      <td>418</td>\n",
       "      <td>https://use.mazemap.com/?campusid=217&amp;sharepoi...</td>\n",
       "    </tr>\n",
       "    <tr>\n",
       "      <th>626</th>\n",
       "      <td>WERRIBEE CAMPUS SERVICES WORKSHOP/STORE</td>\n",
       "      <td>421</td>\n",
       "      <td>https://use.mazemap.com/?campusid=217&amp;sharepoi...</td>\n",
       "    </tr>\n",
       "    <tr>\n",
       "      <th>628</th>\n",
       "      <td>WERRIBEE RESEARCH LABORATORY</td>\n",
       "      <td>434</td>\n",
       "      <td>https://use.mazemap.com/?campusid=217&amp;sharepoi...</td>\n",
       "    </tr>\n",
       "    <tr>\n",
       "      <th>633</th>\n",
       "      <td>AVIAN RESEARCH</td>\n",
       "      <td>437</td>\n",
       "      <td>https://use.mazemap.com/?campusid=217&amp;sharepoi...</td>\n",
       "    </tr>\n",
       "  </tbody>\n",
       "</table>\n",
       "</div>"
      ],
      "text/plain": [
       "                               Building name   No  \\\n",
       "0               WERRIBEE VETERINARY HOSPITAL  411   \n",
       "414              WERRIBEE PATHOLOGY BUILDING  416   \n",
       "510           WERRIBEE PARASITOLOGY BUILDING  417   \n",
       "551    WERRIBEE LEARNING & TEACHING BUILDING  418   \n",
       "626  WERRIBEE CAMPUS SERVICES WORKSHOP/STORE  421   \n",
       "628             WERRIBEE RESEARCH LABORATORY  434   \n",
       "633                           AVIAN RESEARCH  437   \n",
       "\n",
       "                                                   url  \n",
       "0    https://use.mazemap.com/?campusid=217&sharepoi...  \n",
       "414  https://use.mazemap.com/?campusid=217&sharepoi...  \n",
       "510  https://use.mazemap.com/?campusid=217&sharepoi...  \n",
       "551  https://use.mazemap.com/?campusid=217&sharepoi...  \n",
       "626  https://use.mazemap.com/?campusid=217&sharepoi...  \n",
       "628  https://use.mazemap.com/?campusid=217&sharepoi...  \n",
       "633  https://use.mazemap.com/?campusid=217&sharepoi...  "
      ]
     },
     "execution_count": 140,
     "metadata": {},
     "output_type": "execute_result"
    }
   ],
   "source": [
    "# use the map function to replace the building names in the original DataFrame\n",
    "df['Building name'] = df['No'].map(mapping_dict)\n",
    "df"
   ]
  },
  {
   "cell_type": "code",
   "execution_count": 141,
   "metadata": {},
   "outputs": [],
   "source": [
    "#check the mapping key\n",
    "df_building_codes = set(df['No'])\n",
    "mapping_dict_codes = set(mapping_dict.keys())"
   ]
  },
  {
   "cell_type": "code",
   "execution_count": 142,
   "metadata": {},
   "outputs": [
    {
     "name": "stdout",
     "output_type": "stream",
     "text": [
      "set()\n",
      "{'522', '533', '636', '479', '871', '700', '814', '745', '656', '678', '428', '290', '271', '6855', '865', 'EXT-W502', '410I', '556', 'EXT-W400', '864', '168', '498', '733', '148B', '199', '130', '897', '982', '410C', '120', '110', '184', '609', '932', '220', '222', '862', '993', '262', '213', '548', '244', '582', '395', '576', 'EXT-W503', '581', 'EXT-B905', '169', '186', '442', '469', '642', '867', '990', '410', '940', '571', '410J', '812', '818', '992', '422', '472', '6858', '810', '675', '519', '983', '6852', '585', '630', '384', '156', '701', '106', '509', '695', '930', '410U', '998', '140', '260', '378', '6966', '901', '583', '103', '478', '115', '295', '554', '815', '588', '938', '256', '615', '721', '605', '335', '474', '216', '710', '725', 'EXT-W600', '263', '651', '243', '950', '5031', '703', 'EXT-P160', '410N', '665', '628', '514', '203', '5020', '734', '214', '683', '5593', '564', '5002', '873', '570', '906', '291', '696', '5051', '607', '207', '722', '536', '544', '735', '163', '451', '580', '5005', '250', '5045', '5010', '619', '625', '5019', '149', '715', '911', '6961', '861', '540', '206', '697', '551', '101', '668', '237', '545', '144', '614', '5029', '516', '568', '246', '816', '410W', '5599', '686', '621', '586', '578', '672', '379', '633', '747', '328', '523', '410O', '513', '385', '942', '420', '650', '679', '565', '602', '512', '574', 'EXT-W401', '541', '634', '860', '682', '590', '535', '189', '617', '705', '592', '881', '410V', '538', '635', '405', '566', '6965', '5011', '719', '530', '627', '5003', '755', '116', '732', '520', '717', '413', '142', '167', '5594', '466', '611', '620', 'EXT-W700', '562', '811', '529', '193', '381', '104', '689', '546', '604', '248', '504', '927', '387', '497', '173', '404', '937', '913', '150', '917', '6851', '629', '480', '166', '893', '693', 'EXT-W302', '470', '934', '737', 'EXT-P337', '872', '394', 'EXT-W010', '410E', '187', '912', '952', '155', '954', '875', '5035', '664', '922', '102', '5041', '706', '919', 'EXT-W201', '744', '752', '224', '5004', '714', '517', '410L', '709', '981', '452', '121', '854', '524', '905', '557', '659', '511', '748', '542A', '463', '537', '558', '707', '741', '426', '894', '217', '572', '671', '601', '736', '951', '953', '403', '900', '692', '410R', '476', '526', '232', '724', '215', '820', '122', '165', '362', '525', '880', '561', '183', '450', '761', '200', '694', '171', '907', '429', '711', '877', '245', '762', 'EXT-R001', '433', '141', '926', '296', '300', '390', '754', '726', '813', '5006', 'L880', '264', '398', '410Q', 'EXT-W200', '921', '738', '527', '874', '997', '903', '606', '337', '603', '436', '723', '397', '410F', '252', '415', '699', '868', '508', '201', '869', '310', '431', '552', '136', '198', '506', '521', '702', '278', '234', '348', '941', 'EXT-W501', '749', '194', '5034', '943', '559', '417A', 'EXT-W701', '5001', 'L267', '5595', '985', '410D', '640', '809', '909', '195', '308', '471', '822', '680', '5038', '589', '631', '984', '477', '148A', '6963', '145', '388', '410P', '763', '174', '6856', '515', '292', '261', '531', '393', '113', '618', '936', '6854', '681', '128', '176', '577', '662', '808', '221', '915', '423', '510', '575', '528', '151', '587', '739', '666', '914', '863', '637', '882', '5033', '920', '283', '674', '410H', '464', 'L410', '896', '584', '817', '684', '708', '899', '368', '866', '5040', '5032', '503', '333', '158', '443', '430', '539', '931', '713', '543', '468', '608', '663', '731', '670', '935', 'EXT-W301', '742', 'EXT-W300', '439', '410M', '641', '673', '5592', '807', '593', '258', '242', '929', '301', '192', '716', '249', '134', '805', '139', '105', '5046', '162', '133', '160', '453', '918', '159', '410K', '465', '114', '690', '704', '505', '154', '401', '410G', '170', '939', '202', '658', '204', '112', '147', '955', '908', '916', '925', '933', '5008', '5597', '410B', '416A', '542', '396', '425', '275', '632', '125', '410S', '553', '410T', '660', '534', '657', '904', '569', '6857', '712', '924', '573', '616', '750', '427', '467', '991', '876', '177', '182', '729', '5007', '191', '677', '6964', '687', '806', '131', '5047', '895', '667', '143', '265', '879', '923', '153', '284', '594', '691', '610', '281', '928', '560', '5009', '613', '253', '225', '181', '6962', '410A', '6853', '298', '698', '730', '107', '655', '746', '764', '638', '473', '5591', 'EXT-P198', '326', '549', '563', '175', '898', '5596', '688', '414', '188', '5030', '661', '804', '669', '161', 'EXT-W500', '612', '344', '887', '821', '507', '386', '902', '400', '986', '555', 'EXT-W402', '266', '740', '146', '5598', '419', '424', '5037', '251', '676', '279', '550', '123', '152', '402', 'EXT-P171', '5036'}\n"
     ]
    }
   ],
   "source": [
    "print(df_building_codes - mapping_dict_codes)  # check the building codes in df that are not in the mapping_dict\n",
    "print(mapping_dict_codes - df_building_codes)  # check the building codes in mapping_dict that are not in df"
   ]
  },
  {
   "cell_type": "code",
   "execution_count": 143,
   "metadata": {},
   "outputs": [],
   "source": [
    "# df.to_excel(\"./mapping/unimelb_dookie_url.xlsx\", index=False) \n",
    "# df.to_excel(\"./mapping/unimelb_burnley_url.xlsx\", index=False) \n",
    "# df.to_excel(\"./mapping/unimelb_creswick_url.xlsx\", index=False) \n",
    "# df.to_excel(\"./mapping/unimelb_sheppartion_url.xlsx\", index=False) \n",
    "# df.to_excel(\"./mapping/unimelb_southbank_url.xlsx\", index=False) \n",
    "# df.to_excel(\"./mapping/unimelb_werribee_url.xlsx\", index=False) \n",
    "# df.to_excel(\"./mapping/unimelb_parkville_url.xlsx\", index=False) "
   ]
  },
  {
   "cell_type": "code",
   "execution_count": null,
   "metadata": {},
   "outputs": [],
   "source": []
  }
 ],
 "metadata": {
  "kernelspec": {
   "display_name": "base",
   "language": "python",
   "name": "python3"
  },
  "language_info": {
   "codemirror_mode": {
    "name": "ipython",
    "version": 3
   },
   "file_extension": ".py",
   "mimetype": "text/x-python",
   "name": "python",
   "nbconvert_exporter": "python",
   "pygments_lexer": "ipython3",
   "version": "3.9.13"
  },
  "orig_nbformat": 4
 },
 "nbformat": 4,
 "nbformat_minor": 2
}
